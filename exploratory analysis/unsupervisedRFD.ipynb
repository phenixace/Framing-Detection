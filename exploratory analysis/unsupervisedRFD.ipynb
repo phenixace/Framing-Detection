{
 "cells": [
  {
   "cell_type": "code",
   "execution_count": 1,
   "metadata": {},
   "outputs": [],
   "source": [
    "from dataset import TSVDataset\n",
    "\n",
    "labelled_dataset = TSVDataset('./annotated_data_500/final_dataset_v2.tsv', supervised_like=True)"
   ]
  },
  {
   "cell_type": "code",
   "execution_count": 14,
   "metadata": {},
   "outputs": [
    {
     "data": {
      "text/plain": [
       "(257, 86, 85)"
      ]
     },
     "execution_count": 14,
     "metadata": {},
     "output_type": "execute_result"
    }
   ],
   "source": [
    "from torch.utils.data import Subset\n",
    "from utils import Evaluator\n",
    "\n",
    "fold = 5\n",
    "\n",
    "train_set = Subset(labelled_dataset, [i for i in range((-1 + fold)%5, len(labelled_dataset), 5)] + [i for i in range((0 + fold)%5, len(labelled_dataset), 5)] + [i for i in range((1 + fold)%5, len(labelled_dataset), 5)])\n",
    "valid_set = Subset(labelled_dataset, [i for i in range((2 + fold)%5, len(labelled_dataset), 5)])\n",
    "test_set  = Subset(labelled_dataset, [i for i in range((3 + fold)%5, len(labelled_dataset), 5)])\n",
    "\n",
    "evaluator = Evaluator(classifier='naive', mode='macro', detail=True)\n",
    "\n",
    "len(train_set), len(valid_set), len(test_set)"
   ]
  },
  {
   "cell_type": "code",
   "execution_count": 3,
   "metadata": {},
   "outputs": [],
   "source": [
    "from sentence_transformers import SentenceTransformer, util\n",
    "\n",
    "model = SentenceTransformer(\"all-mpnet-base-v2\")"
   ]
  },
  {
   "cell_type": "code",
   "execution_count": 4,
   "metadata": {},
   "outputs": [],
   "source": [
    "queries = ['solution or alleviation of the issue','human interest or emotion or personalization', 'conflict or disagreement or two sides', 'morality and religion', 'financial gains or costs or economic consequences'] \n",
    "query_embeddings = model.encode(queries)"
   ]
  },
  {
   "cell_type": "code",
   "execution_count": 5,
   "metadata": {},
   "outputs": [],
   "source": [
    "from nltk.tokenize import sent_tokenize\n",
    "\n",
    "def find_frame_with_best_n(text, n):\n",
    "    sentences = sent_tokenize(text)\n",
    "    embeddings = model.encode(sentences)\n",
    "\n",
    "    cos_sim = util.cos_sim(query_embeddings, embeddings)\n",
    "\n",
    "    all_sentence_combinations = []\n",
    "    for i in range(len(queries)):\n",
    "        for j in range(len(sentences)):\n",
    "            all_sentence_combinations.append([cos_sim[i][j], i, j])\n",
    "\n",
    "    #Sort list by the highest cosine similarity score\n",
    "    all_sentence_combinations = sorted(all_sentence_combinations, key=lambda x: x[0], reverse=True)\n",
    "\n",
    "    output = [0, 0, 0, 0, 0]\n",
    "    for score, i, j in all_sentence_combinations[:n]:\n",
    "        output[i] = 1\n",
    "\n",
    "    return output"
   ]
  },
  {
   "cell_type": "code",
   "execution_count": 51,
   "metadata": {},
   "outputs": [
    {
     "data": {
      "text/plain": [
       "{'Precision': [0.23529411764705882, 0, 0.75, 0.6, 0.3333333333333333],\n",
       " 'Recall': [0.13333333333333333,\n",
       "  0,\n",
       "  0.1016949152542373,\n",
       "  0.2727272727272727,\n",
       "  0.8181818181818182],\n",
       " 'F1': [0.1702127659574468,\n",
       "  0,\n",
       "  0.17910447761194032,\n",
       "  0.37499999999999994,\n",
       "  0.4736842105263157],\n",
       " 'Acc': [0.5411764705882353,\n",
       "  0.8235294117647058,\n",
       "  0.35294117647058826,\n",
       "  0.8823529411764706,\n",
       "  0.5294117647058824]}"
      ]
     },
     "execution_count": 51,
     "metadata": {},
     "output_type": "execute_result"
    }
   ],
   "source": [
    "n = 1\n",
    "preds = []\n",
    "truths = []\n",
    "for i in range(0, len(test_set)):\n",
    "    preds.append(find_frame_with_best_n(test_set[i][0], n))\n",
    "    truths.append(test_set[i][1])\n",
    "\n",
    "input_dict = {\"y_true\": truths, \"y_pred\": preds}\n",
    "from utils import Evaluator\n",
    "\n",
    "evaluator = Evaluator(classifier='naive', mode='macro', detail=True)   \n",
    "evaluator.eval(input_dict)"
   ]
  },
  {
   "cell_type": "code",
   "execution_count": 6,
   "metadata": {},
   "outputs": [],
   "source": [
    "def find_frame(text, threshold):\n",
    "    sentences = sent_tokenize(text)\n",
    "    embeddings = model.encode(sentences)\n",
    "\n",
    "    cos_sim = util.cos_sim(query_embeddings, embeddings)\n",
    "\n",
    "    all_sentence_combinations = []\n",
    "    for i in range(len(queries)):\n",
    "        for j in range(len(sentences)):\n",
    "            all_sentence_combinations.append([cos_sim[i][j], i, j])\n",
    "\n",
    "    #Sort list by the highest cosine similarity score\n",
    "    all_sentence_combinations = sorted(all_sentence_combinations, key=lambda x: x[0], reverse=True)\n",
    "\n",
    "    output = [0, 0, 0, 0, 0]\n",
    "    for score, i, j in all_sentence_combinations:\n",
    "        if score < threshold[i]:\n",
    "            break\n",
    "        else:\n",
    "            output[queries.index(queries[i])] = 1\n",
    "\n",
    "    return output"
   ]
  },
  {
   "cell_type": "code",
   "execution_count": 8,
   "metadata": {},
   "outputs": [
    {
     "name": "stdout",
     "output_type": "stream",
     "text": [
      "0.475\n"
     ]
    }
   ],
   "source": [
    "best = 0\n",
    "record = 0\n",
    "for i in range(0, 20):\n",
    "    threshold = [i / 40] * 5\n",
    "    preds = []\n",
    "    truths = []\n",
    "    for j in range(0, len(valid_set)):\n",
    "        preds.append(find_frame(valid_set[j][0], threshold))\n",
    "        truths.append(valid_set[j][1])\n",
    "\n",
    "    input_dict = {\"y_true\": truths, \"y_pred\": preds}\n",
    "    from utils import Evaluator\n",
    "\n",
    "    evaluator = Evaluator(classifier='naive', mode='macro', detail=True)   \n",
    "\n",
    "    res = evaluator.eval(input_dict)\n",
    "    f1 = sum(res['F1']) / 5\n",
    "    if f1 > best:\n",
    "        best =  f1\n",
    "        record = i\n",
    "\n",
    "print(record / 40)\n"
   ]
  },
  {
   "cell_type": "code",
   "execution_count": 15,
   "metadata": {},
   "outputs": [
    {
     "data": {
      "text/plain": [
       "{'Precision': [0.3625,\n",
       "  0.2,\n",
       "  0.7283950617283951,\n",
       "  0.21568627450980393,\n",
       "  0.25882352941176473],\n",
       " 'Recall': [0.9666666666666667, 0.9285714285714286, 1.0, 1.0, 1.0],\n",
       " 'F1': [0.5272727272727272,\n",
       "  0.32911392405063294,\n",
       "  0.8428571428571429,\n",
       "  0.3548387096774193,\n",
       "  0.4112149532710281],\n",
       " 'Acc': [0.38823529411764707,\n",
       "  0.3764705882352941,\n",
       "  0.7411764705882353,\n",
       "  0.5294117647058824,\n",
       "  0.25882352941176473]}"
      ]
     },
     "execution_count": 15,
     "metadata": {},
     "output_type": "execute_result"
    }
   ],
   "source": [
    "threshold = [0.15] * 5\n",
    "\n",
    "preds = []\n",
    "truths = []\n",
    "for i in range(0, len(test_set)):\n",
    "    preds.append(find_frame(test_set[i][0], threshold))\n",
    "    truths.append(test_set[i][1])\n",
    "\n",
    "input_dict = {\"y_true\": truths, \"y_pred\": preds}\n",
    "import json\n",
    "\n",
    "with open('./log/output_{}.json'.format(fold), 'w+', encoding='utf-8') as f:\n",
    "    json.dump(input_dict, f)\n",
    "\n",
    "from utils import Evaluator\n",
    "\n",
    "evaluator = Evaluator(classifier='naive', mode='macro', detail=True)   \n",
    "\n",
    "evaluator.eval(input_dict)"
   ]
  }
 ],
 "metadata": {
  "kernelspec": {
   "display_name": "Python 3.8.8 ('base')",
   "language": "python",
   "name": "python3"
  },
  "language_info": {
   "codemirror_mode": {
    "name": "ipython",
    "version": 3
   },
   "file_extension": ".py",
   "mimetype": "text/x-python",
   "name": "python",
   "nbconvert_exporter": "python",
   "pygments_lexer": "ipython3",
   "version": "3.8.8"
  },
  "orig_nbformat": 4,
  "vscode": {
   "interpreter": {
    "hash": "ad2bdc8ecc057115af97d19610ffacc2b4e99fae6737bb82f5d7fb13d2f2c186"
   }
  }
 },
 "nbformat": 4,
 "nbformat_minor": 2
}
